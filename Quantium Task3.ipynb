{
 "cells": [
  {
   "cell_type": "code",
   "execution_count": 16,
   "id": "347fd701-6372-4a27-93c2-fcfca60609a3",
   "metadata": {},
   "outputs": [
    {
     "data": {
      "text/html": [
       "\n",
       "        <iframe\n",
       "            width=\"100%\"\n",
       "            height=\"650\"\n",
       "            src=\"http://127.0.0.1:8050/\"\n",
       "            frameborder=\"0\"\n",
       "            allowfullscreen\n",
       "            \n",
       "        ></iframe>\n",
       "        "
      ],
      "text/plain": [
       "<IPython.lib.display.IFrame at 0x227e0762f90>"
      ]
     },
     "metadata": {},
     "output_type": "display_data"
    }
   ],
   "source": [
    "import pandas\n",
    "from dash import Dash, html, dcc\n",
    "\n",
    "from plotly.express import line\n",
    "\n",
    "# the path to the formatted data file\n",
    "DATA_PATH = \"./formatted_output.csv\"\n",
    "\n",
    "# load in data\n",
    "data = pandas.read_csv(DATA_PATH)\n",
    "data = data.sort_values(by=\"date\")\n",
    "\n",
    "# initialize dash\n",
    "dash_app = Dash(__name__)\n",
    "\n",
    "# create the visualization\n",
    "line_chart = line(data, x=\"date\", y=\"Sales\", title=\"Pink Morsel Sales\")\n",
    "visualization = dcc.Graph(\n",
    "    #id=\"visualization\",\n",
    "    figure=line_chart\n",
    ")\n",
    "\n",
    "# create the header\n",
    "header = html.H1(\n",
    "    \"Pink Morsel Visualizer\",\n",
    "    id=\"header\"\n",
    ")\n",
    "\n",
    "# define the app layout\n",
    "dash_app.layout = html.Div(\n",
    "    [\n",
    "        header,\n",
    "        visualization\n",
    "    ]\n",
    ")\n",
    "\n",
    "# this is only true if the module is executed as the program entrypoint\n",
    "if __name__ == '__main__':\n",
    "    dash_app.run_server()"
   ]
  }
 ],
 "metadata": {
  "kernelspec": {
   "display_name": "Python [conda env:base] *",
   "language": "python",
   "name": "conda-base-py"
  },
  "language_info": {
   "codemirror_mode": {
    "name": "ipython",
    "version": 3
   },
   "file_extension": ".py",
   "mimetype": "text/x-python",
   "name": "python",
   "nbconvert_exporter": "python",
   "pygments_lexer": "ipython3",
   "version": "3.12.7"
  }
 },
 "nbformat": 4,
 "nbformat_minor": 5
}
