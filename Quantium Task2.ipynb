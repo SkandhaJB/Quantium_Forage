{
 "cells": [
  {
   "cell_type": "code",
   "execution_count": 2,
   "id": "3f104443-f714-41aa-b453-cf8e2d14df09",
   "metadata": {},
   "outputs": [],
   "source": [
    "import pandas as pd"
   ]
  },
  {
   "cell_type": "code",
   "execution_count": 176,
   "id": "cab24d3e-caa1-4936-8bdd-2685856d2f91",
   "metadata": {
    "scrolled": true
   },
   "outputs": [
    {
     "name": "stdout",
     "output_type": "stream",
     "text": [
      "daily_sales_data_0.csv\n",
      "daily_sales_data_1.csv\n",
      "daily_sales_data_2.csv\n",
      "Formatted output saved as \"formatted_output.csv\"\n"
     ]
    },
    {
     "name": "stderr",
     "output_type": "stream",
     "text": [
      "<>:13: SyntaxWarning: invalid escape sequence '\\$'\n",
      "<>:13: SyntaxWarning: invalid escape sequence '\\$'\n",
      "C:\\Users\\Skandha JB\\AppData\\Local\\Temp\\ipykernel_19312\\4042785230.py:13: SyntaxWarning: invalid escape sequence '\\$'\n",
      "  df['price'] = df['price'].replace('[\\$,]', '', regex=True).astype(float)\n"
     ]
    }
   ],
   "source": [
    "# List of input CSV files\n",
    "csv_files = ['daily_sales_data_0.csv', 'daily_sales_data_1.csv', 'daily_sales_data_2.csv']\n",
    "\n",
    "# List to hold individual DataFrames\n",
    "df_list = []\n",
    "\n",
    "for file in csv_files:\n",
    "    # Read CSV file\n",
    "    df = pd.read_csv(file)\n",
    "    \n",
    "    # Filter rows for \"Pink Morsels\" product\n",
    "    df = df[df['product'] == 'pink morsel']\n",
    "    df['price'] = df['price'].replace('[\\$,]', '', regex=True).astype(float)\n",
    "    # Calculate \"Sales\" as quantity * price\n",
    "    df['Sales'] = df['quantity'] * df['price']\n",
    "    \n",
    "    # Keep only the required columns\n",
    "    df = df[['Sales', 'date', 'region']]\n",
    "    print(file)\n",
    "    df.head()\n",
    "    # Add the DataFrame to the list\n",
    "    df_list.append(df)\n",
    "\n",
    "# Combine all DataFrames into one\n",
    "final_df = pd.concat(df_list, ignore_index=True)\n",
    "\n",
    "# Save the formatted output to a new CSV file\n",
    "final_df.to_csv('formatted_output.csv', index=False)\n",
    "\n",
    "print('Formatted output saved as \"formatted_output.csv\"')\n"
   ]
  }
 ],
 "metadata": {
  "kernelspec": {
   "display_name": "Python [conda env:base] *",
   "language": "python",
   "name": "conda-base-py"
  },
  "language_info": {
   "codemirror_mode": {
    "name": "ipython",
    "version": 3
   },
   "file_extension": ".py",
   "mimetype": "text/x-python",
   "name": "python",
   "nbconvert_exporter": "python",
   "pygments_lexer": "ipython3",
   "version": "3.12.7"
  }
 },
 "nbformat": 4,
 "nbformat_minor": 5
}
